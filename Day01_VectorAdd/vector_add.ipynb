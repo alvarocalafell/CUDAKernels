{
  "nbformat": 4,
  "nbformat_minor": 0,
  "metadata": {
    "colab": {
      "provenance": [],
      "gpuType": "T4"
    },
    "kernelspec": {
      "name": "python3",
      "display_name": "Python 3"
    },
    "language_info": {
      "name": "python"
    },
    "accelerator": "GPU"
  },
  "cells": [
    {
      "cell_type": "code",
      "source": [
        "!apt install nvidia-cuda-toolkit"
      ],
      "metadata": {
        "colab": {
          "base_uri": "https://localhost:8080/"
        },
        "id": "seUuIE7s3x9l",
        "outputId": "4e8aaea8-59f6-4c9a-a319-8a6e14ee203b"
      },
      "execution_count": null,
      "outputs": [
        {
          "output_type": "stream",
          "name": "stdout",
          "text": [
            "Reading package lists... Done\n",
            "Building dependency tree... Done\n",
            "Reading state information... Done\n",
            "nvidia-cuda-toolkit is already the newest version (11.5.1-1ubuntu1).\n",
            "0 upgraded, 0 newly installed, 0 to remove and 20 not upgraded.\n"
          ]
        }
      ]
    },
    {
      "cell_type": "code",
      "execution_count": 1,
      "metadata": {
        "colab": {
          "base_uri": "https://localhost:8080/"
        },
        "id": "O9N0nLre2ucE",
        "outputId": "203818fc-10eb-4dbb-b21d-a126b5331189"
      },
      "outputs": [
        {
          "output_type": "stream",
          "name": "stdout",
          "text": [
            "Writing vector_add.cu\n"
          ]
        }
      ],
      "source": [
        "%%writefile vector_add.cu\n",
        "#include <stdio.h>\n",
        "#include <stdlib.h>\n",
        "#include <cuda_runtime.h>\n",
        "\n",
        "__global__ void vectorAdd(float *a, float *b, float *c, int n) {\n",
        "    int i = blockIdx.x * blockDim.x + threadIdx.x;\n",
        "    if (i == 0) printf(\"Thread 0: blockIdx.x = %d, blockDim.x = %d, threadIdx.x = %d\\n\", blockIdx.x, blockDim.x, threadIdx.x);\n",
        "    if (i < n) {\n",
        "        c[i] = a[i] + b[i];\n",
        "        if (i == 0) printf(\"Kernel running: c[0] = %f\\n\", c[i]);\n",
        "    }\n",
        "}\n",
        "\n",
        "void checkCudaError(cudaError_t err, const char *msg) {\n",
        "    if (err != cudaSuccess) {\n",
        "        fprintf(stderr, \"CUDA Error: %s: %s\\n\", msg, cudaGetErrorString(err));\n",
        "        exit(1);\n",
        "    }\n",
        "}\n",
        "\n",
        "int main() {\n",
        "    int n = 1 << 20; // 1 million elements\n",
        "    size_t size = n * sizeof(float);\n",
        "\n",
        "    float *h_a = (float*)malloc(size);\n",
        "    float *h_b = (float*)malloc(size);\n",
        "    float *h_c = (float*)malloc(size);\n",
        "\n",
        "    for (int i = 0; i < n; i++) {\n",
        "        h_a[i] = rand() / (float)RAND_MAX;\n",
        "        h_b[i] = rand() / (float)RAND_MAX;\n",
        "    }\n",
        "    printf(\"h_a[0] = %f, h_b[0] = %f\\n\", h_a[0], h_b[0]);\n",
        "\n",
        "    float *d_a, *d_b, *d_c;\n",
        "    checkCudaError(cudaMalloc(&d_a, size), \"cudaMalloc d_a failed\");\n",
        "    checkCudaError(cudaMalloc(&d_b, size), \"cudaMalloc d_b failed\");\n",
        "    checkCudaError(cudaMalloc(&d_c, size), \"cudaMalloc d_c failed\");\n",
        "\n",
        "    checkCudaError(cudaMemcpy(d_a, h_a, size, cudaMemcpyHostToDevice), \"Copy to d_a failed\");\n",
        "    checkCudaError(cudaMemcpy(d_b, h_b, size, cudaMemcpyHostToDevice), \"Copy to d_b failed\");\n",
        "\n",
        "    float *debug_a = (float*)malloc(size);\n",
        "    checkCudaError(cudaMemcpy(debug_a, d_a, size, cudaMemcpyDeviceToHost), \"Debug copy failed\");\n",
        "    printf(\"debug_a[0] = %f (should match h_a[0])\\n\", debug_a[0]);\n",
        "    free(debug_a);\n",
        "\n",
        "    int blockSize = 256;\n",
        "    int numBlocks = (n + blockSize - 1) / blockSize;\n",
        "\n",
        "    cudaEvent_t start, stop;\n",
        "    checkCudaError(cudaEventCreate(&start), \"Event creation failed\");\n",
        "    checkCudaError(cudaEventCreate(&stop), \"Event creation failed\");\n",
        "    checkCudaError(cudaEventRecord(start), \"Event record failed\");\n",
        "\n",
        "    vectorAdd<<<numBlocks, blockSize>>>(d_a, d_b, d_c, n);\n",
        "    checkCudaError(cudaGetLastError(), \"Kernel launch failed\");\n",
        "    checkCudaError(cudaDeviceSynchronize(), \"Kernel execution failed\");\n",
        "\n",
        "    checkCudaError(cudaEventRecord(stop), \"Event record failed\");\n",
        "    checkCudaError(cudaEventSynchronize(stop), \"Event sync failed\");\n",
        "    float gpu_time = 0;\n",
        "    checkCudaError(cudaEventElapsedTime(&gpu_time, start, stop), \"Event elapsed failed\");\n",
        "\n",
        "    checkCudaError(cudaMemcpy(h_c, d_c, size, cudaMemcpyDeviceToHost), \"Copy to h_c failed\");\n",
        "\n",
        "    for (int i = 0; i < n; i++) {\n",
        "        float expected = h_a[i] + h_b[i];\n",
        "        if (fabs(h_c[i] - expected) > 1e-5) {\n",
        "            printf(\"Error at index %d: %f vs %f\\n\", i, h_c[i], expected);\n",
        "            break;\n",
        "        }\n",
        "    }\n",
        "\n",
        "    free(h_a);\n",
        "    free(h_b);\n",
        "    free(h_c);\n",
        "    cudaFree(d_a);\n",
        "    cudaFree(d_b);\n",
        "    cudaFree(d_c);\n",
        "\n",
        "    printf(\"GPU Time: %.2f ms\\n\", gpu_time);\n",
        "    return 0;\n",
        "}"
      ]
    },
    {
      "cell_type": "code",
      "source": [
        "!nvcc -arch=sm_75 vector_add.cu -o vector_add\n",
        "\n"
      ],
      "metadata": {
        "id": "dSvSwfCR21qf"
      },
      "execution_count": 2,
      "outputs": []
    },
    {
      "cell_type": "code",
      "source": [
        "!./vector_add"
      ],
      "metadata": {
        "colab": {
          "base_uri": "https://localhost:8080/"
        },
        "id": "tYk85Dj-4XdD",
        "outputId": "4cfd958b-ab15-442e-8f20-2b0d68e5eadf"
      },
      "execution_count": 3,
      "outputs": [
        {
          "output_type": "stream",
          "name": "stdout",
          "text": [
            "h_a[0] = 0.840188, h_b[0] = 0.394383\n",
            "debug_a[0] = 0.840188 (should match h_a[0])\n",
            "Thread 0: blockIdx.x = 0, blockDim.x = 256, threadIdx.x = 0\n",
            "Kernel running: c[0] = 1.234571\n",
            "GPU Time: 3.05 ms\n"
          ]
        }
      ]
    },
    {
      "cell_type": "code",
      "source": [
        "!nvprof ./vector_add"
      ],
      "metadata": {
        "colab": {
          "base_uri": "https://localhost:8080/"
        },
        "id": "T7HW6Nag4bJi",
        "outputId": "772e23c3-79f3-48b9-a877-d252679f4bc6"
      },
      "execution_count": null,
      "outputs": [
        {
          "output_type": "stream",
          "name": "stdout",
          "text": [
            "h_a[0] = 0.840188, h_b[0] = 0.394383\n",
            "==706== NVPROF is profiling process 706, command: ./vector_add\n",
            "debug_a[0] = 0.840188 (should match h_a[0])\n",
            "Thread 0: blockIdx.x = 0, blockDim.x = 256, threadIdx.x = 0\n",
            "Kernel running: c[0] = 1.234571\n",
            "GPU Time: 2.98 ms\n",
            "==706== Profiling application: ./vector_add\n",
            "==706== Profiling result:\n",
            "            Type  Time(%)      Time     Calls       Avg       Min       Max  Name\n",
            " GPU activities:   74.31%  20.575ms         2  10.287ms  10.219ms  10.356ms  [CUDA memcpy DtoH]\n",
            "                   24.58%  6.8062ms         2  3.4031ms  3.3715ms  3.4346ms  [CUDA memcpy HtoD]\n",
            "                    1.10%  305.30us         1  305.30us  305.30us  305.30us  vectorAdd(float*, float*, float*, int)\n",
            "      API calls:   71.34%  88.285ms         3  29.428ms  70.337us  88.130ms  cudaMalloc\n",
            "                   24.75%  30.626ms         4  7.6565ms  3.5960ms  11.797ms  cudaMemcpy\n",
            "                    2.13%  2.6396ms         1  2.6396ms  2.6396ms  2.6396ms  cudaLaunchKernel\n",
            "                    1.36%  1.6842ms         3  561.42us  151.90us  787.75us  cudaFree\n",
            "                    0.26%  324.02us         1  324.02us  324.02us  324.02us  cudaDeviceSynchronize\n",
            "                    0.11%  130.80us       114  1.1470us     107ns  53.789us  cuDeviceGetAttribute\n",
            "                    0.01%  15.671us         2  7.8350us     890ns  14.781us  cudaEventCreate\n",
            "                    0.01%  14.629us         2  7.3140us  5.5960us  9.0330us  cudaEventRecord\n",
            "                    0.01%  11.045us         1  11.045us  11.045us  11.045us  cuDeviceGetName\n",
            "                    0.01%  6.7330us         1  6.7330us  6.7330us  6.7330us  cuDeviceGetPCIBusId\n",
            "                    0.00%  5.7580us         1  5.7580us  5.7580us  5.7580us  cudaEventSynchronize\n",
            "                    0.00%  2.7850us         1  2.7850us  2.7850us  2.7850us  cudaEventElapsedTime\n",
            "                    0.00%  1.9160us         3     638ns     131ns  1.4900us  cuDeviceGetCount\n",
            "                    0.00%     898ns         2     449ns     141ns     757ns  cuDeviceGet\n",
            "                    0.00%     566ns         1     566ns     566ns     566ns  cudaGetLastError\n",
            "                    0.00%     352ns         1     352ns     352ns     352ns  cuModuleGetLoadingMode\n",
            "                    0.00%     332ns         1     332ns     332ns     332ns  cuDeviceTotalMem\n",
            "                    0.00%     209ns         1     209ns     209ns     209ns  cuDeviceGetUuid\n"
          ]
        }
      ]
    },
    {
      "cell_type": "code",
      "source": [
        "import numpy as np\n",
        "import time\n",
        "\n",
        "n = 1 << 20  # 1 million elements\n",
        "a = np.random.rand(n).astype(np.float32)\n",
        "b = np.random.rand(n).astype(np.float32)\n",
        "\n",
        "# Time CPU\n",
        "start = time.time()\n",
        "c_cpu = a + b\n",
        "cpu_time = (time.time() - start) * 1000  # Convert to milliseconds\n",
        "print(f\"CPU Time: {cpu_time:.2f} ms\")"
      ],
      "metadata": {
        "colab": {
          "base_uri": "https://localhost:8080/"
        },
        "id": "vonb0grI4j_V",
        "outputId": "6a8eec1e-2142-4e92-de15-cc7d2bed7550"
      },
      "execution_count": 4,
      "outputs": [
        {
          "output_type": "stream",
          "name": "stdout",
          "text": [
            "CPU Time: 0.99 ms\n"
          ]
        }
      ]
    },
    {
      "cell_type": "code",
      "source": [
        "import numpy as np\n",
        "import time\n",
        "import matplotlib.pyplot as plt\n",
        "import subprocess\n",
        "\n",
        "def run_cuda_kernel(n):\n",
        "    # Compile the CUDA code\n",
        "    subprocess.run(['nvcc', '-arch=sm_75', 'vector_add.cu', '-o', 'vector_add'], check=True)\n",
        "\n",
        "    # Run the CUDA executable and capture output\n",
        "    result = subprocess.run(['./vector_add'], capture_output=True, text=True)\n",
        "\n",
        "    # Extract GPU time from output\n",
        "    output_lines = result.stdout.split('\\n')\n",
        "    gpu_time_line = [line for line in output_lines if line.startswith('GPU Time:')][0]\n",
        "    gpu_time = float(gpu_time_line.split(':')[1].strip().split(' ')[0])\n",
        "\n",
        "    return gpu_time\n",
        "\n",
        "def run_numpy(n):\n",
        "    a = np.random.rand(n).astype(np.float32)\n",
        "    b = np.random.rand(n).astype(np.float32)\n",
        "\n",
        "    start = time.time()\n",
        "    c_cpu = a + b\n",
        "    cpu_time = (time.time() - start) * 1000  # Convert to milliseconds\n",
        "\n",
        "    return cpu_time\n",
        "\n",
        "# Define range of input sizes\n",
        "n_values = [1 << i for i in range(10, 26)]  # Powers of 2 from 2^10 to 2^25\n",
        "\n",
        "# Run experiments and store results\n",
        "cuda_times = []\n",
        "numpy_times = []\n",
        "\n",
        "for n in n_values:\n",
        "    cuda_times.append(run_cuda_kernel(n))\n",
        "    numpy_times.append(run_numpy(n))\n",
        "\n",
        "# Plot the results\n",
        "plt.plot(n_values, cuda_times, label='CUDA')\n",
        "plt.plot(n_values, numpy_times, label='NumPy')\n",
        "plt.xscale('log', base=2)\n",
        "plt.xlabel('Input Size (n)')\n",
        "plt.ylabel('Execution Time (ms)')\n",
        "plt.title('CUDA vs NumPy Vector Addition Performance')\n",
        "plt.legend()\n",
        "plt.grid(True)\n",
        "plt.show()"
      ],
      "metadata": {
        "id": "aHWEe98r7vU4",
        "colab": {
          "base_uri": "https://localhost:8080/",
          "height": 476
        },
        "outputId": "cc73b3fe-1f2e-476c-98e0-151c14536cd9"
      },
      "execution_count": 5,
      "outputs": [
        {
          "output_type": "display_data",
          "data": {
            "text/plain": [
              "<Figure size 640x480 with 1 Axes>"
            ],
            "image/png": "[encoded data removed]"
          },
          "metadata": {}
        }
      ]
    },
    {
      "cell_type": "code",
      "source": [],
      "metadata": {
        "id": "qZZPkU0auz4A"
      },
      "execution_count": null,
      "outputs": []
    }
  ]
}